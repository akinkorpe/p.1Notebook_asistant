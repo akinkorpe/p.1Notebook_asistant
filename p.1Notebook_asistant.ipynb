{
 "cells": [
  {
   "cell_type": "markdown",
   "id": "c0b01edc-01a0-4ae0-8430-7dcdd599d769",
   "metadata": {},
   "source": [
    "# DENEME ÇALIŞMASI"
   ]
  },
  {
   "cell_type": "markdown",
   "id": "63802450-a39b-461f-9f62-59fafea0f20a",
   "metadata": {},
   "source": [
    "## 1. Özellik: not_ekle() Fonksiyonu\n",
    "* Amaç: Kullanıcıdan bir not alır, tarih ve saatbilgisiyle birlikte bir .txt dosyasına kaydeder."
   ]
  },
  {
   "cell_type": "markdown",
   "id": "247e3aa1-2f73-493f-8117-d88187737b67",
   "metadata": {},
   "source": [
    "### Menü Gösterme Fonksiyonu"
   ]
  },
  {
   "cell_type": "code",
   "execution_count": 14,
   "id": "657167d4-b673-4c74-aa79-239379a01101",
   "metadata": {},
   "outputs": [],
   "source": [
    "def menu_goster():\n",
    "    print(\"\\n=== Kisisel Asistan Uygulaması ===\")\n",
    "    print(\"1. Not ekle\")\n",
    "    print(\"2. Notları listele\")\n",
    "    print(\"3. Arama yap\")\n",
    "    print(\"4. İstatistik göster\")\n",
    "    print(\"5. Çıkış\")"
   ]
  },
  {
   "cell_type": "markdown",
   "id": "b17952a7-75cc-4beb-9508-49495462a73e",
   "metadata": {},
   "source": [
    "### 1. Not Ekleme Fonksiyonu"
   ]
  },
  {
   "cell_type": "code",
   "execution_count": 17,
   "id": "04c1faa1-2bc1-4a40-8479-3a95c94816c1",
   "metadata": {},
   "outputs": [],
   "source": [
    "from datetime import datetime\n",
    "\n",
    "def not_ekle():\n",
    "    not_metni = input(\"Notunuzu girin: \")\n",
    "    zaman = datetime.now()\n",
    "    tarih_formatli = zaman.strftime(\"%Y-%m-%d %H:%M:%S\")\n",
    "\n",
    "    # Notu dosyaya yaz\n",
    "    with open(\"notlar.txt\", \"a\", encoding=\"utf-8\") as dosya:\n",
    "        dosya.write(f\"{tarih_formatli} - {not_metini}\\n\")\n",
    "    print(\"✅ Not başarrıyla kaydedildi!\")    "
   ]
  },
  {
   "cell_type": "markdown",
   "id": "2e74530b-ef3a-4250-83d5-d023ce46a132",
   "metadata": {},
   "source": [
    "### Ana Kontrol Fonksiyonu (main()):"
   ]
  },
  {
   "cell_type": "code",
   "execution_count": 31,
   "id": "20a0b910-e629-4de6-be7f-fdcc2fe92eb4",
   "metadata": {},
   "outputs": [],
   "source": [
    "def main():\n",
    "    while True:\n",
    "        menu_goster()\n",
    "        secim = input(\"Secim yapınız (1-5): \")\n",
    "\n",
    "        if secim == \"1\":\n",
    "            not_ekle()\n",
    "        elif secim == \"2\":\n",
    "            print (\"📚 Notlar listeleniyor...\")\n",
    "            notlari_listele()\n",
    "            #^^^ notlari_lisrele()\n",
    "        elif secim == \"3\":\n",
    "            print(\"🔍 Arama özelliği çalışıyor...\")\n",
    "            arama_yap()\n",
    "            # ^^^arama_yap()\n",
    "        elif secim == \"4\":\n",
    "            print(\"📊 İstatistikler hesaplanıyor...\")\n",
    "            istatistik_goster()\n",
    "            # ^^^istatistik_goster()\n",
    "\n",
    "        elif secim == \"5\":\n",
    "            print(\"👋 Çıkılıyor, iyi günler!\")\n",
    "            break\n",
    "\n",
    "        else:\n",
    "            print(\"❗Geçersiz seçim!\")\n"
   ]
  },
  {
   "cell_type": "markdown",
   "id": "850ddf88-8dae-4c5b-8c68-229e350f76fe",
   "metadata": {
    "jp-MarkdownHeadingCollapsed": true
   },
   "source": [
    "## 2. ÖZELLİK: notlari_listele() Fonksiyonu"
   ]
  },
  {
   "cell_type": "code",
   "execution_count": 32,
   "id": "9ad73a00-e2c6-4250-a795-239adc8e8be0",
   "metadata": {},
   "outputs": [],
   "source": [
    "def notlari_listele():\n",
    "    try:\n",
    "        with open(\"notlar.txt\", \"r\", encoding=\"utf-8\") as dosya:\n",
    "            satirlar = dosya.readlines()\n",
    "            if not satirlar:\n",
    "                print(\"ℹ️ Henüz hiç not kaydedilmemiş.\")\n",
    "            else:\n",
    "                print(\"\\n📚 Kayıtlı Notlar:\\n\")\n",
    "                for i, satir in enumerate(satirlar, 1):\n",
    "                     print(f\"{i}. {satir.strip()}\")\n",
    "    except FileNotFoundError:\n",
    "        print(\"🚫 Not dosyası bulunamadı. Henüz hiç not eklenmemiş olabilir.\")"
   ]
  },
  {
   "cell_type": "markdown",
   "id": "0b54180e-464b-4c6e-a168-d50b143c2ca6",
   "metadata": {
    "jp-MarkdownHeadingCollapsed": true
   },
   "source": [
    "## 3. ÖZELLİK: arama_yap() — Notlarda Anahtar Kelime Arama\n"
   ]
  },
  {
   "cell_type": "code",
   "execution_count": 33,
   "id": "47578c52-e826-4a44-b715-6d261eeb1c31",
   "metadata": {},
   "outputs": [],
   "source": [
    "def arama_yap():\n",
    "    anahtar = input(\"🔍 Aramak istediğiniz kelimeyi girin: \").lower()\n",
    "    bulundu = False\n",
    "\n",
    "    try:\n",
    "        with open(\"notlar.txt\", \"r\", encoding=\"utf-8\") as dosya:\n",
    "            satirlar = dosya.readlines()\n",
    "\n",
    "            print(\"\\n🔎 Eşleşen Notlar:\\n\")\n",
    "            for satir in satirlar:\n",
    "                if anahtar in satir.lower():\n",
    "                    print(f\"- {satir.strip()}\")\n",
    "                    bulundu = True\n",
    "\n",
    "            if not bulundu:\n",
    "                print(\"ℹ️ Aradığınız kelimeye uygun not bulunamadı.\")\n",
    "    except FileNotFoundError:\n",
    "        print(\"🚫 Not dosyası bulunamadı.\")"
   ]
  },
  {
   "cell_type": "markdown",
   "id": "57daee0e-2893-49ec-a9c8-828e3eba9410",
   "metadata": {
    "jp-MarkdownHeadingCollapsed": true
   },
   "source": [
    "## 4. ÖZELLİK: istatistik_goster() — Notlardan İstatistik Üretme"
   ]
  },
  {
   "cell_type": "code",
   "execution_count": null,
   "id": "b2952c4b-8d24-490e-9247-c8fef4ef7f06",
   "metadata": {},
   "outputs": [],
   "source": [
    "from collections import Counter\n",
    "\n",
    "def istatistik_goster():\n",
    "    try:\n",
    "        with open(\"notlar.txt\", \"r\", encoding=\"utf-8\") as dosya:\n",
    "            satirlar = dosya.readlines()\n",
    "\n",
    "            if not satirlar:\n",
    "                print(\"ℹ️ Henüz not eklenmemiş.\")\n",
    "                return\n",
    "\n",
    "            toplam_not = len(satirlar)\n",
    "            toplam_karakter = sum(len(s.strip()) for s in satirlar)\n",
    "            en_uzun_not = max(satirlar, key=lambda x: len(x.strip())))\n",
    "\n",
    "            #Kelime Sayımı\n",
    "            tum_kelimeler = \" \".join(satirlar).lower().split()\n",
    "            kelime_sayimi = Counter(tum_kelimeler)\n",
    "            en_cok_gecen = kelime_sayimi.most_common(1)[0] #(kelime, adet)\n",
    "\n",
    "            print(\"\\n📊 Not İstatistikleri:\")\n",
    "            print(f\"- Toplam not sayısı     : {toplam_not}\")\n",
    "            print(f\"- Toplam karakter sayısı: {toplam_karakter}\")\n",
    "            print(f\"- En uzun not           : {en_uzun_not.strip()}\")\n",
    "            print(f\"- En sık geçen kelime   : '{en_cok_gecen[0]}' ({en_cok_gecen[1]} kez)\")\n",
    "\n",
    "    except FileNotFoundError:\n",
    "        print(\"🚫 Not dosyası bulunamadı.\")"
   ]
  },
  {
   "cell_type": "markdown",
   "id": "30f63915",
   "metadata": {},
   "source": []
  },
  {
   "cell_type": "code",
   "execution_count": null,
   "id": "821abea6",
   "metadata": {},
   "outputs": [],
   "source": [
    "main()\n",
    "# Uygulama başlatıyor"
   ]
  },
  {
   "cell_type": "code",
   "execution_count": null,
   "id": "cfff3478",
   "metadata": {},
   "outputs": [],
   "source": []
  }
 ],
 "metadata": {
  "kernelspec": {
   "display_name": "Python [conda env:base] *",
   "language": "python",
   "name": "conda-base-py"
  },
  "language_info": {
   "codemirror_mode": {
    "name": "ipython",
    "version": 3
   },
   "file_extension": ".py",
   "mimetype": "text/x-python",
   "name": "python",
   "nbconvert_exporter": "python",
   "pygments_lexer": "ipython3",
   "version": "3.12.7"
  }
 },
 "nbformat": 4,
 "nbformat_minor": 5
}
